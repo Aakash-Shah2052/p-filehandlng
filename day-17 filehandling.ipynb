{
  "nbformat": 4,
  "nbformat_minor": 0,
  "metadata": {
    "kernelspec": {
      "display_name": "Python 3",
      "language": "python",
      "name": "python3"
    },
    "language_info": {
      "codemirror_mode": {
        "name": "ipython",
        "version": 3
      },
      "file_extension": ".py",
      "mimetype": "text/x-python",
      "name": "python",
      "nbconvert_exporter": "python",
      "pygments_lexer": "ipython3",
      "version": "3.7.1"
    },
    "colab": {
      "name": "file.ipynb",
      "provenance": []
    }
  },
  "cells": [
    {
      "cell_type": "code",
      "metadata": {
        "id": "aeTg40n6t8Rg"
      },
      "source": [
        "# b = open(<file_name>,<modes>)"
      ],
      "execution_count": null,
      "outputs": []
    },
    {
      "cell_type": "code",
      "metadata": {
        "id": "jl5lDv8pt8Rm",
        "outputId": "0585e795-042b-4f7d-d546-87384a1552ff"
      },
      "source": [
        "try:\n",
        "    b = open('class530.txt','x')\n",
        "    b.close()\n",
        "except:\n",
        "    print(\"The file is already there.\")"
      ],
      "execution_count": null,
      "outputs": [
        {
          "output_type": "stream",
          "text": [
            "The file is already there.\n"
          ],
          "name": "stdout"
        }
      ]
    },
    {
      "cell_type": "code",
      "metadata": {
        "id": "NAkhFB3Ut8Rn",
        "outputId": "01b26d3d-87a1-4e90-ef20-a4cf28477411"
      },
      "source": [
        "#read() #reading content from file\n",
        "b = open('class530.txt','r')\n",
        "c = b.read()\n",
        "print(c)"
      ],
      "execution_count": null,
      "outputs": [
        {
          "output_type": "stream",
          "text": [
            "1.Hello World\n",
            "2.Hello World\n",
            "3.Hello World\n",
            "4.Hello World\n",
            "5.Hello World\n",
            "6.Hello World\n",
            "\n"
          ],
          "name": "stdout"
        }
      ]
    },
    {
      "cell_type": "code",
      "metadata": {
        "id": "tf9RXTOwt8Ro",
        "outputId": "b333f258-fe40-41cc-a0da-10be845690b4"
      },
      "source": [
        "#read() #reading content from file\n",
        "b = open('class530.txt','r')\n",
        "c = b.read()\n",
        "print(c)"
      ],
      "execution_count": null,
      "outputs": [
        {
          "output_type": "stream",
          "text": [
            "1.Hello World\n",
            "2.Hello World\n",
            "3.Hello World\n",
            "4.Hello World\n",
            "5.Hello World\n",
            "6.Hello World\n",
            "\n"
          ],
          "name": "stdout"
        }
      ]
    },
    {
      "cell_type": "code",
      "metadata": {
        "id": "xdL_KLlWt8Ro",
        "outputId": "174130af-a2c3-4855-b8a3-8054f017ca1d"
      },
      "source": [
        "#read() #reading content from file\n",
        "b = open('class530.txt','r')\n",
        "print(b.readline())\n",
        "print(b.readline())"
      ],
      "execution_count": null,
      "outputs": [
        {
          "output_type": "stream",
          "text": [
            "1.Hello World\n",
            "\n",
            "2.Hello World\n",
            "\n"
          ],
          "name": "stdout"
        }
      ]
    },
    {
      "cell_type": "code",
      "metadata": {
        "id": "iLlCybITit2w",
        "outputId": "f1c8c2ce-e567-4ce9-e180-5c347adfecc4",
        "colab": {
          "base_uri": "https://localhost:8080/"
        }
      },
      "source": [
        "#biiling system using file handling\n",
        "b = open('fileassignment.txt','w')\n",
        "b.write(\"Sn,Name,quantity,price,total\\n\")\n",
        "data = \"\"\n",
        "n = int(input(\"how many peoples visit our resturant = \"))\n",
        "for i in range(n):\n",
        "  Name = input(\"what is your name please = \")\n",
        "  quantity = int(input(\"how many have you taken = \"))\n",
        "  price = int(input(\"price of this item = \"))\n",
        "  total = quantity*price\n",
        "  info = f\"{i},{Name},{quantity},{price},{total}\\n\"\n",
        "  data = data + info\n",
        "\n",
        "b.write(data)\n",
        "b.close()\n"
      ],
      "execution_count": 1,
      "outputs": [
        {
          "output_type": "stream",
          "text": [
            "how many peoples visit our resturant = 2\n",
            "what is your name please = Aakash\n",
            "how many have you taken = 2\n",
            "price of this item = 120\n",
            "what is your name please = Sulove\n",
            "how many have you taken = 1\n",
            "price of this item = 20\n"
          ],
          "name": "stdout"
        }
      ]
    },
    {
      "cell_type": "code",
      "metadata": {
        "id": "0hB3vRw9yLqH",
        "outputId": "34c55b63-f7dc-4e95-9057-82c01bcca47d",
        "colab": {
          "base_uri": "https://localhost:8080/"
        }
      },
      "source": [
        "#this is used to read that we have write\n",
        "b = open('fileassignment.txt','r')\n",
        "print(b.read())\n",
        "b.close()"
      ],
      "execution_count": 4,
      "outputs": [
        {
          "output_type": "stream",
          "text": [
            "Sn,Name,quantity,price,total\n",
            "0,Aakash,2,120,240\n",
            "1,Sulove,1,20,20\n",
            "\n"
          ],
          "name": "stdout"
        }
      ]
    },
    {
      "cell_type": "code",
      "metadata": {
        "id": "DuYXmhtTt8Rp"
      },
      "source": [
        "b = open('class530.txt','w')\n",
        "b.write('Hello World')\n",
        "b.close()"
      ],
      "execution_count": null,
      "outputs": []
    },
    {
      "cell_type": "code",
      "metadata": {
        "id": "1WNbEuKJt8Rp",
        "outputId": "b967a5ef-5f73-4b7c-99d1-d004eed3eb83"
      },
      "source": [
        "b = open('class530.csv','w')\n",
        "b.write(\"Sn,Name,Address,Age\\n\")\n",
        "data = \"\"\n",
        "n = int(input(\"Enter n = \"))\n",
        "for i in range(1,n+1):\n",
        "    name = input(\"Enter name = \")\n",
        "    age = int(input(\"Enter age =\"))\n",
        "    add = input(\"Enter address = \")\n",
        "    info = f\"{i},{name},{add},{age}\\n\"\n",
        "    data = data+info\n",
        "    \n",
        "b.write(data)\n",
        "b.close()"
      ],
      "execution_count": null,
      "outputs": [
        {
          "output_type": "stream",
          "text": [
            "Enter n = 2\n",
            "Enter name = Ram\n",
            "Enter age =78\n",
            "Enter address = Kathmandu\n",
            "Enter name = Shyam\n",
            "Enter age =56\n",
            "Enter address = Patan\n"
          ],
          "name": "stdout"
        }
      ]
    },
    {
      "cell_type": "code",
      "metadata": {
        "id": "bNFK9h-ut8Rp",
        "outputId": "fc4f4db0-8c57-4288-8622-2084ee381c3c"
      },
      "source": [
        "b = open('class530.csv','r')\n",
        "c = b.read()\n",
        "print(c)\n",
        "print(type(c))\n",
        "b.close()"
      ],
      "execution_count": null,
      "outputs": [
        {
          "output_type": "stream",
          "text": [
            "Sn,Name,Address,Age\n",
            "1,Ram,Kathmandu,78\n",
            "2,Shyam,Patan,56\n",
            "\n",
            "<class 'str'>\n"
          ],
          "name": "stdout"
        }
      ]
    },
    {
      "cell_type": "code",
      "metadata": {
        "id": "rQwEIAOEt8Rq",
        "outputId": "afc766bb-d4c7-45b2-fd2d-6a20486664fc"
      },
      "source": [
        "#c.split() is used to converts data into array form\n",
        "#we can do split in many forms like \\ , etc etc\n",
        "d = c.split('\\n')\n",
        "print(d)"
      ],
      "execution_count": null,
      "outputs": [
        {
          "output_type": "stream",
          "text": [
            "['Sn,Name,Address,Age', '1,Ram,Kathmandu,78', '2,Shyam,Patan,56', '']\n"
          ],
          "name": "stdout"
        }
      ]
    },
    {
      "cell_type": "code",
      "metadata": {
        "id": "eljZl90Wt8Rq",
        "outputId": "38257dab-7c29-4633-ef40-d6f6555ac82c"
      },
      "source": [
        "e = d[1:-1]\n",
        "e[0].split(',')"
      ],
      "execution_count": null,
      "outputs": [
        {
          "output_type": "execute_result",
          "data": {
            "text/plain": [
              "['1', 'Ram', 'Kathmandu', '78']"
            ]
          },
          "metadata": {
            "tags": []
          },
          "execution_count": 26
        }
      ]
    },
    {
      "cell_type": "code",
      "metadata": {
        "id": "QmjelvnAt8Rr",
        "outputId": "ca09cf9b-9597-43c3-884c-159eda1e9148"
      },
      "source": [
        "final_data = []\n",
        "for i in e:\n",
        "    x = i.split(',')\n",
        "    final_data.append(x)\n",
        "print(final_data)"
      ],
      "execution_count": null,
      "outputs": [
        {
          "output_type": "stream",
          "text": [
            "[['1', 'Ram', 'Kathmandu', '78'], ['2', 'Shyam', 'Patan', '56']]\n"
          ],
          "name": "stdout"
        }
      ]
    },
    {
      "cell_type": "code",
      "metadata": {
        "id": "W79OqAXxt8Rr",
        "outputId": "cb8a33a7-78a3-4bc6-e015-d1f91b0a54da"
      },
      "source": [
        "final_data[0][-1] = \"\"\n",
        "final_data"
      ],
      "execution_count": null,
      "outputs": [
        {
          "output_type": "execute_result",
          "data": {
            "text/plain": [
              "[['1', 'Ram', 'Kathmandu', ''], ['2', 'Shyam', 'Patan', '56']]"
            ]
          },
          "metadata": {
            "tags": []
          },
          "execution_count": 30
        }
      ]
    },
    {
      "cell_type": "code",
      "metadata": {
        "id": "R5YO8qhit8Rr",
        "outputId": "06a5b78d-9f08-4289-8d6a-4bb36f241315"
      },
      "source": [
        "#shutil is an type of package used to copy file to another folder\n",
        "import shutil\n",
        "src = 'class530.txt'   #class530.txt is an file name\n",
        "dst = 'Untitled Folder'    #Untitled Folder is an folder name\n",
        "shutil.copy(src, dst)\n"
      ],
      "execution_count": null,
      "outputs": [
        {
          "output_type": "execute_result",
          "data": {
            "text/plain": [
              "'Untitled Folder\\\\class530.txt'"
            ]
          },
          "metadata": {
            "tags": []
          },
          "execution_count": 31
        }
      ]
    },
    {
      "cell_type": "code",
      "metadata": {
        "id": "BD8oSghxt8Rs",
        "outputId": "79b7b812-b437-486f-d753-dffb8d5e3fcf"
      },
      "source": [
        "import shutil\n",
        "src = 'Untitled Folder'\n",
        "dst = '../Desktop/class530Folder'\n",
        "shutil.copytree(src, dst)\n",
        "#kunai dir bata arko dir ma move or copy garna ko lagi folder banuna pardaina\n",
        "# if we want to make same folder name then we need to make same folder name in src and dst"
      ],
      "execution_count": null,
      "outputs": [
        {
          "output_type": "execute_result",
          "data": {
            "text/plain": [
              "'../Desktop/class530Folder'"
            ]
          },
          "metadata": {
            "tags": []
          },
          "execution_count": 34
        }
      ]
    },
    {
      "cell_type": "code",
      "metadata": {
        "id": "N6S_Rdjyt8Rs"
      },
      "source": [
        ""
      ],
      "execution_count": null,
      "outputs": []
    }
  ]
}